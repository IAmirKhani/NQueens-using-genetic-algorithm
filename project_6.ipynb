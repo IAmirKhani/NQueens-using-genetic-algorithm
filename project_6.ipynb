{
 "cells": [
  {
   "cell_type": "code",
   "execution_count": 1,
   "metadata": {},
   "outputs": [],
   "source": [
    "import random\n",
    "import time\n",
    "import matplotlib.pyplot as plt\n",
    "import numpy as np\n",
    "import matplotlib.patches as patches"
   ]
  },
  {
   "cell_type": "code",
   "execution_count": 2,
   "metadata": {},
   "outputs": [],
   "source": [
    "def initialize_population(n, population_size):\n",
    "    return [random.sample(range(1, n + 1), n) for _ in range(population_size)]\n",
    "\n",
    "def fitness(chromosome, n):\n",
    "    conflicts = 0\n",
    "    row_col_conflicts = abs(len(chromosome) - len(set(chromosome)))\n",
    "    conflicts += row_col_conflicts\n",
    "\n",
    "    for i in range(len(chromosome)):\n",
    "        for j in range(i + 1, len(chromosome)):\n",
    "            if i - chromosome[i] == j - chromosome[j] or i + chromosome[i] == j + chromosome[j]:\n",
    "                conflicts += 1\n",
    "\n",
    "    return n - conflicts\n",
    "\n",
    "def one_point_crossover(parent1, parent2):\n",
    "    crossover_point = random.randint(0, len(parent1) - 1)\n",
    "    child1 = parent1[:crossover_point] + parent2[crossover_point:]\n",
    "    child2 = parent2[:crossover_point] + parent1[crossover_point:]\n",
    "    return child1, child2\n",
    "\n",
    "def two_point_crossover(parent1, parent2):\n",
    "    crossover_points = sorted(random.sample(range(len(parent1)), 2))\n",
    "    child1 = parent1[:crossover_points[0]] + parent2[crossover_points[0]:crossover_points[1]] + parent1[crossover_points[1]:]\n",
    "    child2 = parent2[:crossover_points[0]] + parent1[crossover_points[0]:crossover_points[1]] + parent2[crossover_points[1]:]\n",
    "    return child1, child2\n",
    "\n",
    "def uniform_crossover(parent1, parent2):\n",
    "    child1, child2 = [], []\n",
    "    for i in range(len(parent1)):\n",
    "        if random.random() < 0.5:\n",
    "            child1.append(parent1[i])\n",
    "            child2.append(parent2[i])\n",
    "        else:\n",
    "            child1.append(parent2[i])\n",
    "            child2.append(parent1[i])\n",
    "    return child1, child2\n",
    "\n",
    "def mutate(chromosome):\n",
    "    index = random.randint(0, len(chromosome) - 1)\n",
    "    chromosome[index] = random.randint(1, len(chromosome))\n",
    "    return chromosome\n",
    "\n",
    "def elitism_selection(population, n, k=5):\n",
    "    sorted_population = sorted(population, key=lambda x: fitness(x, n), reverse=True)\n",
    "    top_k = sorted_population[:k]\n",
    "    return random.choice(top_k)\n",
    "\n",
    "def roulette_wheel_selection(population, n):\n",
    "    fitness_values = [fitness(chromosome, n) for chromosome in population]\n",
    "    total_fitness = sum(fitness_values)\n",
    "    probabilities = [fitness_value / total_fitness for fitness_value in fitness_values]\n",
    "    return random.choices(population, probabilities)[0]\n",
    "\n",
    "def tournament_selection(population, n, tournament_size=3):\n",
    "    selected = random.sample(population, tournament_size)\n",
    "    selected = sorted(selected, key=lambda x: fitness(x, n), reverse=True)\n",
    "    return selected[0]"
   ]
  },
  {
   "cell_type": "code",
   "execution_count": 3,
   "metadata": {},
   "outputs": [],
   "source": [
    "def genetic_algorithm(n, population_size, generations):\n",
    "    population = initialize_population(n, population_size)\n",
    "\n",
    "    for ـ in range(generations):\n",
    "        population = sorted(population, key=lambda x: fitness(x, n), reverse=True)\n",
    "        if fitness(population[0], n) == n:\n",
    "            break\n",
    "\n",
    "        next_generation = population[:2]\n",
    "        while len(next_generation) < population_size:\n",
    "            # parent1 = elitism_selection(population, n, k=5)\n",
    "            # parent2 = elitism_selection(population, n, k=5)\n",
    "            # parent1 = roulette_wheel_selection(population, n)\n",
    "            # parent2 = roulette_wheel_selection(population, n)\n",
    "            parent1 = tournament_selection(population, n)\n",
    "            parent2 = tournament_selection(population, n)\n",
    "            child1, child2 = one_point_crossover(parent1, parent2)\n",
    "            # child1, child2 = two_point_crossover(parent1, parent2)\n",
    "            # child1, child2 = uniform_crossover(parent1, parent2)\n",
    "            # child1, child2 = ordered_crossover(parent1, parent2)\n",
    "            child1 = mutate(child1)\n",
    "            child2 = mutate(child2)\n",
    "            next_generation.append(child1)\n",
    "            next_generation.append(child2)\n",
    "\n",
    "        population = next_generation\n",
    "\n",
    "    return population[0]"
   ]
  },
  {
   "cell_type": "code",
   "execution_count": 4,
   "metadata": {},
   "outputs": [],
   "source": [
    "def visualize_board(chromosome):\n",
    "    n = len(chromosome)\n",
    "    fig, ax = plt.subplots()\n",
    "    for i in range(n):\n",
    "        for j in range(n):\n",
    "            if (i + j) % 2 == 0:\n",
    "                color = 'white'\n",
    "            else:\n",
    "                color = 'gray'\n",
    "            ax.add_patch(patches.Rectangle((i, j), 1, 1, facecolor=color))\n",
    "\n",
    "    for i, j in enumerate(chromosome):\n",
    "        ax.add_patch(patches.Circle((i + 0.5, j + 0.5), 0.3, facecolor='red'))\n",
    "\n",
    "    ax.set_xlim(0, n)\n",
    "    ax.set_ylim(0, n)\n",
    "    ax.set_aspect('equal')\n",
    "    plt.gca().invert_yaxis()\n",
    "    plt.axis('off')\n",
    "    plt.show()"
   ]
  },
  {
   "cell_type": "code",
   "execution_count": 5,
   "metadata": {},
   "outputs": [
    {
     "name": "stdout",
     "output_type": "stream",
     "text": [
      "Solution: [14, 5, 15, 6, 9, 13, 2, 8, 3, 11, 16, 1, 10, 12, 7, 4]\n",
      "Fitness: 16\n",
      "Execution time: 0.192715 seconds\n"
     ]
    },
    {
     "data": {
      "image/png": "[encoded data removed]",
      "text/plain": [
       "<Figure size 640x480 with 1 Axes>"
      ]
     },
     "metadata": {},
     "output_type": "display_data"
    }
   ],
   "source": [
    "if __name__ == \"__main__\":\n",
    "    n = 8\n",
    "    population_size = 100\n",
    "    generations = 1000\n",
    "\n",
    "    start_time = time.time()\n",
    "    solution = genetic_algorithm(n, population_size, generations)\n",
    "    execution_time = time.time() - start_time\n",
    "\n",
    "    print(\"Solution:\", solution)\n",
    "    print(\"Fitness:\", fitness(solution, n))\n",
    "    print(\"Execution time: {:.6f} seconds\".format(execution_time))\n",
    "\n",
    "    visualize_board(solution)"
   ]
  },
  {
   "cell_type": "code",
   "execution_count": 6,
   "metadata": {},
   "outputs": [
    {
     "name": "stdout",
     "output_type": "stream",
     "text": [
      "Fitnesses are: [15, 15, 15, 15, 15, 15, 15, 16, 15, 15]\n",
      "We run the algorithm for 10 times and 1 times we get the correct answer\n",
      "Score for algorithm: 0.1\n"
     ]
    }
   ],
   "source": [
    "validation = []\n",
    "num_iter = 10\n",
    "for _ in range(num_iter):\n",
    "    solution = genetic_algorithm(n, population_size, generations)\n",
    "    validation.append(fitness(solution, n))\n",
    "\n",
    "complete_answers = 0\n",
    "for fitness in validation:\n",
    "    if fitness == n:\n",
    "        complete_answers+=1\n",
    "    else:\n",
    "        continue\n",
    "\n",
    "print(f'Fitnesses are: {validation}')\n",
    "print(f'We run the algorithm for {num_iter} times and {complete_answers} times we get the correct answer')\n",
    "print(f'Score for algorithm: {complete_answers/num_iter}')"
   ]
  }
 ],
 "metadata": {
  "kernelspec": {
   "display_name": "Python 3",
   "language": "python",
   "name": "python3"
  },
  "language_info": {
   "codemirror_mode": {
    "name": "ipython",
    "version": 3
   },
   "file_extension": ".py",
   "mimetype": "text/x-python",
   "name": "python",
   "nbconvert_exporter": "python",
   "pygments_lexer": "ipython3",
   "version": "3.11.2"
  },
  "orig_nbformat": 4,
  "vscode": {
   "interpreter": {
    "hash": "b0fa6594d8f4cbf19f97940f81e996739fb7646882a419484c72d19e05852a7e"
   }
  }
 },
 "nbformat": 4,
 "nbformat_minor": 2
}
